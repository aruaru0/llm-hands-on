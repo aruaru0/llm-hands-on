{
  "nbformat": 4,
  "nbformat_minor": 0,
  "metadata": {
    "colab": {
      "provenance": [],
      "gpuType": "T4",
      "include_colab_link": true
    },
    "kernelspec": {
      "name": "python3",
      "display_name": "Python 3"
    },
    "language_info": {
      "name": "python"
    },
    "accelerator": "GPU"
  },
  "cells": [
    {
      "cell_type": "markdown",
      "metadata": {
        "id": "view-in-github",
        "colab_type": "text"
      },
      "source": [
        "<a href=\"https://colab.research.google.com/github/aruaru0/llm-hands-on/blob/main/llm_test.ipynb\" target=\"_parent\"><img src=\"https://colab.research.google.com/assets/colab-badge.svg\" alt=\"Open In Colab\"/></a>"
      ]
    },
    {
      "cell_type": "markdown",
      "source": [
        "# Google Colabの使い方\n",
        "\n",
        "1. [https://colab.google/](https://colab.google/)にアクセス→\"New Notebook\"または「新規作成」を選択\n",
        "2. Googleアカウントでのログインを求められた場合はログインする\n",
        "3. コードブロック（セル）にPythonコードを書いてShift-Enterで実行\n",
        "\n",
        "## 練習（１）\n",
        "とりあえず、\"hello\"と表示\n",
        "\n"
      ],
      "metadata": {
        "id": "hF_-u77-S_RZ"
      }
    },
    {
      "cell_type": "code",
      "source": [
        "print(\"hello\")"
      ],
      "metadata": {
        "id": "rg54hhELTHLg"
      },
      "execution_count": null,
      "outputs": []
    },
    {
      "cell_type": "markdown",
      "source": [
        "# LLMハンズオン用コード\n",
        "\n",
        "## 実行前の注意点\n",
        "**実行前に必ず「ランタイム」→「ランタイムのタイプを変更」で<font color=red>\"T4 GPU\"</font>を選択しておくこと！**"
      ],
      "metadata": {
        "id": "HO-Tu4CljxX_"
      }
    },
    {
      "cell_type": "markdown",
      "source": [
        "# 1. 前準備 ==============\n",
        "\n",
        "## ⭐️⭐️　今回は、デコーダーモデルを使って演習を行います"
      ],
      "metadata": {
        "id": "eckFqdqPhSt4"
      }
    },
    {
      "cell_type": "markdown",
      "source": [
        "## ①必要なパッケージをインポートする\n",
        "以下の２つのパッケージから、必要となる機能をインポートします\n",
        "* transformerからAutoModelForCasualLMとAutoTokenizer\n",
        "* torchとtorch.nn.functional\n",
        "\n",
        "`as F`は、**Fという名前**で読み込むことを指定する記述方法です\n",
        "\n",
        "<font color=\"blue\">下記のコードを入力したら、コードセル左の実行ボタンをクリック、またはshift+enterでコードを実行してください。</font>"
      ],
      "metadata": {
        "id": "UtrfmE1RhvHE"
      }
    },
    {
      "cell_type": "code",
      "source": [
        "# パッケージのインポート\n",
        "from transformers import AutoModelForCausalLM, AutoTokenizer\n",
        "import torch\n",
        "import torch.nn.functional as F"
      ],
      "metadata": {
        "id": "NeCYGFGWg68O"
      },
      "execution_count": null,
      "outputs": []
    },
    {
      "cell_type": "markdown",
      "source": [
        "## ②モデルを読み込む\n",
        "\n",
        "モデルは、トークン化するための**tokenizer**と、デコーダー本体の**AutoModelForCausalLM**に分かれています。今回は、モデルは楽天のRakutenAI-2.0-miniを利用します。  \n",
        "\n",
        "* tokenizerとmodelは一致していないとうまく動きません（<font color=\"red\">トークナイザーで変換されるトークンIDとモデルのトークンIDが一致している必要があります</font>）\n",
        "* llamaなどのモデルはHuggingface.ioのサイトにログインし認証する必要があるので注意\n",
        "\n",
        "**学習済みモデル**を使いたいので`from_pretrained`（訓練済みの指示）をつけています。\n",
        "\n",
        "また、モデルはdeviceをautoにしています（GPUがあれば自動的にGPUに転送されます）"
      ],
      "metadata": {
        "id": "lJoWwozJhg05"
      }
    },
    {
      "cell_type": "code",
      "source": [
        "model_path = \"Rakuten/RakutenAI-2.0-mini\"\n",
        "# トークナイザー（トークン化するためのライブラリ）\n",
        "tokenizer = AutoTokenizer.from_pretrained(model_path)\n",
        "# デコーダーモデルを読み込む\n",
        "model = AutoModelForCausalLM.from_pretrained(model_path, torch_dtype=\"auto\", device_map=\"auto\")\n",
        "# 評価モードへ\n",
        "model.eval()"
      ],
      "metadata": {
        "id": "G7NMVam-ErwM"
      },
      "execution_count": null,
      "outputs": []
    },
    {
      "cell_type": "markdown",
      "source": [
        "# 2. 文字列とトークンIDの相互変換 ==============\n",
        "\n",
        "ここでは、文字列がどのような「トークンIDになるのか？」を確認してみます\n",
        "\n",
        "このために、文字列→トークンIDと、変換されたトークンIDから文字列への変換を行ってみます\n",
        "\n",
        "## 1. 文字列からトークンID\n",
        "\n",
        "* 先ほどロードしたtokenizerに文字列を入力するとトークンIDに変換されます\n",
        "\n",
        "## 2. トークンIDから単語\n",
        "\n",
        "* tokenizerには、トークンIDを文字列に直す関数も用意されています`convert_ids_to_tokens()`\n",
        "\n",
        "※ トークンには特殊なものがあります。例えば`<s>`は文章の開始を表すトークンです（変換時に自動的に付加されます）\n"
      ],
      "metadata": {
        "id": "NGQRwh_Ch5ii"
      }
    },
    {
      "cell_type": "markdown",
      "source": [
        "## ③文字列→トークンID"
      ],
      "metadata": {
        "id": "9ELhvUXKiBDf"
      }
    },
    {
      "cell_type": "code",
      "source": [
        "text = \"this is a pen.\"\n",
        "input = tokenizer(text)\n",
        "print(input)"
      ],
      "metadata": {
        "id": "WPXqXBaJGEZX"
      },
      "execution_count": null,
      "outputs": []
    },
    {
      "cell_type": "markdown",
      "source": [
        "## ④トークンID→単語"
      ],
      "metadata": {
        "id": "xhwOsknniRSI"
      }
    },
    {
      "cell_type": "code",
      "source": [
        "# tokenをデコードして文字列に直す\n",
        "tokenizer.convert_ids_to_tokens(input['input_ids'])"
      ],
      "metadata": {
        "id": "W-fk60anGdNb"
      },
      "execution_count": null,
      "outputs": []
    },
    {
      "cell_type": "markdown",
      "source": [
        "# 3. embedding（トークンのベクトル表現）を確認する  ==============\n",
        "\n",
        "ここでは、トークンIDがベクトル表現になるのを確認してみます\n",
        "\n",
        "ベクトル表現を取り出すには、modelのembedding（埋め込み層）の出力を取り出す必要があります。\n",
        "\n",
        "modelから埋め込み層だけ取り出す関数が`get_input_embeddings()`として用意されていますのでこれを使います。\n",
        "\n",
        "* 文字列をトークンIDに変換する\n",
        "* 埋め込み層だけ取り出す\n",
        "* トークンIDを埋め込み層に入力してベクトル表現を受け取る\n",
        "* 受け取った内容を表示する（大きいので、ベクトルの形状と先頭の一部を確認する）\n",
        "\n",
        "### ポイント\n",
        "1. 今回使ったモデルでは、2048次元のベクトルに変換されます\n",
        "2. 出力は（1, トークン数, ベクトルサイズ）の形式で格納されます"
      ],
      "metadata": {
        "id": "hHbSxWBMpDn3"
      }
    },
    {
      "cell_type": "markdown",
      "source": [
        "## ⑤ベクトル表現を取り出す"
      ],
      "metadata": {
        "id": "4Np6bnSHpRJ6"
      }
    },
    {
      "cell_type": "code",
      "source": [
        "text = \"Hello, how are you?\"\n",
        "inputs = tokenizer(text, return_tensors=\"pt\")\n",
        "\n",
        "# 埋め込み層を取得\n",
        "embedding_layer = model.get_input_embeddings()\n",
        "\n",
        "# トークン ID を埋め込みベクトルに変換\n",
        "input_ids = inputs[\"input_ids\"].to(model.device)  # GPU/CPUのデバイスに合わせる\n",
        "embedding_output = embedding_layer(input_ids)\n",
        "\n",
        "# 埋め込みベクトルの形状を表示\n",
        "print(\"入力トークンID \", input_ids)\n",
        "print(\"入力トークン   \", tokenizer.convert_ids_to_tokens(input_ids[0]))\n",
        "print(\"ベクトルの形状 \", embedding_output.shape)     # ベクトルの形状を確認(1, sequence_length, hidden_size)\n",
        "print(\"ベクトルの中身 \", embedding_output[0,1,:100]) # helloのベクトルの先頭100個を表示"
      ],
      "metadata": {
        "id": "rQ6fpXU0ngJz"
      },
      "execution_count": null,
      "outputs": []
    },
    {
      "cell_type": "markdown",
      "source": [
        "# 3. デコーダーを動かしてみる ==============\n",
        "デコーダーモデルを実際に動かしてみます\n",
        "\n",
        "* デコーダの生の出力を確認してみます\n",
        "* 入力した文字列の次の文字が予測できていることを確認します。ここでは、予測結果の上位５つを表示してみます。\n",
        "\n",
        "## ポイント\n",
        "1. モデルをGPUに配置しているので、変換したトークンIDもGPUに移動させる必要があります（`to(model.device)`）\n",
        "1. 予測スコアはモデルの出力の`logits`に格納されています\n",
        "1. 最後のトークンの予測スコアだけ取り出すので末尾を取り出します（pythonでは-1で後ろから参照できます）\n",
        "1. `softmax(..., dim=-1)`で行ごとに正規化が行われます\n",
        "1. 出力の形状から、トークンIDの数が分かります。確認してみてください\n",
        "1. `decode`を使うことで、トークンIDを文字に戻しています"
      ],
      "metadata": {
        "id": "DyXgxjZEie2v"
      }
    },
    {
      "cell_type": "markdown",
      "source": [
        "## ⑥次の文字を予測してみる"
      ],
      "metadata": {
        "id": "j9J1iy-ZivdQ"
      }
    },
    {
      "cell_type": "code",
      "source": [
        "# 入力文\n",
        "input_text = \"日本で一番高い山は\"\n",
        "\n",
        "# トークン化\n",
        "input_ids = tokenizer(input_text, return_tensors=\"pt\").input_ids.to(model.device)\n",
        "\n",
        "# モデルでの予測\n",
        "with torch.no_grad():\n",
        "    # モデルを使用して出力を得る\n",
        "    outputs = model(input_ids)\n",
        "\n",
        "    # ログits（モデルの出力生のスコア）を取得\n",
        "    logits = outputs.logits\n",
        "\n",
        "    # 最後のトークンに対応するスコアを取り出す\n",
        "    last_token_logits = logits[:, -1, :]\n",
        "\n",
        "    # softmaxを適用して確率分布を得る\n",
        "    softmax_probs = F.softmax(last_token_logits, dim=-1)\n",
        "\n",
        "\n",
        "print(f\"入力テキスト: {input_text} : {input_ids}\")\n",
        "print(f\"出力の形状: {logits.shape}\")\n",
        "\n",
        "# 上位k個を取得\n",
        "k = 5\n",
        "top_k_values, top_k_indices = torch.topk(softmax_probs, k=5, dim=-1)\n",
        "\n",
        "# 結果の表示\n",
        "for prob, predicted_token_id in zip(top_k_values[0], top_k_indices[0]):\n",
        "  predicted_token = tokenizer.decode(predicted_token_id, skip_special_tokens=True)\n",
        "\n",
        "  print(\"-\"*40)\n",
        "  print(f\"softmax確率: {prob*100:.2f}%\")\n",
        "  print(f\"  予測されたトークンID: {predicted_token_id.item()}\")\n",
        "  print(f\"  予測されたトークン: {predicted_token}\")"
      ],
      "metadata": {
        "id": "qQhhmInJG50j"
      },
      "execution_count": null,
      "outputs": []
    },
    {
      "cell_type": "markdown",
      "source": [
        "## ⑦デコーダーを連続で動かしてみる\n",
        "\n",
        "予測した文字列を追加しながら、連続で動かして文章が生成されていくのを確認してみます。\n",
        "* 先ほどのプログラムをループに変えます\n",
        "* `argmax`で一番スコアの高いものを選択するように変更します"
      ],
      "metadata": {
        "id": "ldKSSWrKirGQ"
      }
    },
    {
      "cell_type": "code",
      "source": [
        "# 入力文\n",
        "input_text = \"昨日は雨でした。傘を\"\n",
        "\n",
        "# 5回ループする\n",
        "for _ in range(5):\n",
        "  # モデルでの予測\n",
        "  with torch.no_grad():\n",
        "      # トークン化\n",
        "      input_ids = tokenizer(input_text, return_tensors=\"pt\").input_ids.to(model.device)\n",
        "\n",
        "      # モデルを使用して出力を得る\n",
        "      outputs = model(input_ids)\n",
        "\n",
        "      # ログits（モデルの出力生のスコア）を取得\n",
        "      logits = outputs.logits\n",
        "\n",
        "      # 最後のトークンに対応するスコアを取り出す\n",
        "      last_token_logits = logits[:, -1, :].cpu()\n",
        "\n",
        "      # softmaxを適用して確率分布を得る\n",
        "      softmax_probs = F.softmax(last_token_logits, dim=-1)\n",
        "\n",
        "      # 予測されたトークンIDを取得\n",
        "      predicted_token_id = torch.argmax(softmax_probs, dim=-1)\n",
        "\n",
        "      predicted_token = tokenizer.decode(predicted_token_id, skip_special_tokens=True)\n",
        "      print(predicted_token_id, tokenizer.eos_token_id)\n",
        "\n",
        "      # 末尾に予測を足してループ\n",
        "      input_text += predicted_token\n",
        "      print(input_text)"
      ],
      "metadata": {
        "id": "azU_FEW7IT0u"
      },
      "execution_count": null,
      "outputs": []
    },
    {
      "cell_type": "markdown",
      "source": [
        "# 4. Generateを使う例 ==============\n",
        "\n",
        "ここまで自分で１文字つづ予測し追加していましたが、これを自動で行う`generate()`という関数があるのでこれを使ってみます。\n",
        "\n",
        "`generate`の引数\n",
        "* `max_new_tokens`　最大のトークン数\n",
        "* `do_sample`　サンプル戦略を有効にする（trueの場合モデルは確率分布に基づいてランダムにトークンを選択）\n",
        "* `temperature`　どの程度の確率で選ぶか（小さくするほど確率の高いものを選択するようになる）\n",
        "* `top_p`　0.9の場合、最も確率が高い90%のトークンの中から次を選択する\n",
        "* `repetition_penalty`　同じトークンを繰り返し生成することを抑制するためのペナルティ値（大きくするほど繰り返しが抑制される）"
      ],
      "metadata": {
        "id": "vw1LfXXXi2Jo"
      }
    },
    {
      "cell_type": "markdown",
      "source": [
        "## ⑧デコーダの一般的な使い方"
      ],
      "metadata": {
        "id": "4Lh29yjsj88F"
      }
    },
    {
      "cell_type": "code",
      "source": [
        "inputs = tokenizer(\"この物語は、\", return_tensors=\"pt\").to(model.device)\n",
        "with torch.no_grad():\n",
        "    tokens = model.generate(\n",
        "        **inputs,\n",
        "        max_new_tokens=32,\n",
        "        do_sample=True, # サンプリング戦略を有効にする（tempertureなどが有効になる）\n",
        "        temperature=0.7,\n",
        "        top_p=0.9,\n",
        "        repetition_penalty=1.05,\n",
        "        pad_token_id=tokenizer.pad_token_id,\n",
        "    )\n",
        "\n",
        "output = tokenizer.decode(tokens[0], skip_special_tokens=True)\n",
        "print(output)"
      ],
      "metadata": {
        "id": "rnm7G0QyP9AT"
      },
      "execution_count": null,
      "outputs": []
    },
    {
      "cell_type": "code",
      "source": [],
      "metadata": {
        "id": "6rbwqKjLm2-l"
      },
      "execution_count": null,
      "outputs": []
    }
  ]
}